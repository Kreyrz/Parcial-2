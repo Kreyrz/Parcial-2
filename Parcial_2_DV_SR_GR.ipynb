{
  "nbformat": 4,
  "nbformat_minor": 0,
  "metadata": {
    "colab": {
      "provenance": []
    },
    "kernelspec": {
      "name": "python3",
      "display_name": "Python 3"
    },
    "language_info": {
      "name": "python"
    }
  },
  "cells": [
    {
      "cell_type": "markdown",
      "source": [
        "ANALISIS EXPLORATORIO DE DATOS --- DATASET CS:GO\n",
        "\n",
        "Fase 1 -- Comprender el negocio\n",
        "\n",
        "En el siguiente EDA haremos un analisis extensivo de conjunto de datos de jugadores de cs:go, analizando estadisticas de forma que podamos recopilar informacion valiosa acerca de como ciertos parametros pueden afectar al rendimiento del jugador, asi como obtener informacion que pueda ser de utilidad para tener un panorama claro de como ciertas estadisticas siguen ciertos patrones para propositos de estudio"
      ],
      "metadata": {
        "id": "FfvBPVOQOFDg"
      }
    },
    {
      "cell_type": "markdown",
      "source": [
        "\n",
        "Fase 2 --- Comprender los datos\n",
        "En este estudio nos haremos dos preguntas\n",
        "¿Podemos determinar las kills que tendra un jugador en una partida por sus diferentes metricas?\n",
        "¿Podemos determinar si el impacto del jugador es Positivo o Negativo por medio de un conjunto de metricas correlacionadas en la partida?"
      ],
      "metadata": {
        "id": "1qqkNZ8USLNT"
      }
    },
    {
      "cell_type": "code",
      "execution_count": null,
      "metadata": {
        "id": "Ngz3bUxdNHWY"
      },
      "outputs": [],
      "source": [
        "#importar librerias necesarias\n",
        "import pandas as pd\n",
        "import numpy as np\n",
        "import seaborn as sb\n",
        "import matplotlib.pyplot as plt\n",
        "from google.colab import files"
      ]
    },
    {
      "cell_type": "code",
      "source": [
        "#cargar datos\n",
        "uploaded = files.upload()\n",
        "for fn in uploaded.keys():\n",
        "    name = fn"
      ],
      "metadata": {
        "colab": {
          "base_uri": "https://localhost:8080/",
          "height": 73
        },
        "id": "MAtGsbX8StXu",
        "outputId": "f99136ea-6834-41c5-88d6-c8fc2f8079b0"
      },
      "execution_count": null,
      "outputs": [
        {
          "output_type": "display_data",
          "data": {
            "text/plain": [
              "<IPython.core.display.HTML object>"
            ],
            "text/html": [
              "\n",
              "     <input type=\"file\" id=\"files-06cd3d69-f78f-4690-8c69-f2d3c47406de\" name=\"files[]\" multiple disabled\n",
              "        style=\"border:none\" />\n",
              "     <output id=\"result-06cd3d69-f78f-4690-8c69-f2d3c47406de\">\n",
              "      Upload widget is only available when the cell has been executed in the\n",
              "      current browser session. Please rerun this cell to enable.\n",
              "      </output>\n",
              "      <script>// Copyright 2017 Google LLC\n",
              "//\n",
              "// Licensed under the Apache License, Version 2.0 (the \"License\");\n",
              "// you may not use this file except in compliance with the License.\n",
              "// You may obtain a copy of the License at\n",
              "//\n",
              "//      http://www.apache.org/licenses/LICENSE-2.0\n",
              "//\n",
              "// Unless required by applicable law or agreed to in writing, software\n",
              "// distributed under the License is distributed on an \"AS IS\" BASIS,\n",
              "// WITHOUT WARRANTIES OR CONDITIONS OF ANY KIND, either express or implied.\n",
              "// See the License for the specific language governing permissions and\n",
              "// limitations under the License.\n",
              "\n",
              "/**\n",
              " * @fileoverview Helpers for google.colab Python module.\n",
              " */\n",
              "(function(scope) {\n",
              "function span(text, styleAttributes = {}) {\n",
              "  const element = document.createElement('span');\n",
              "  element.textContent = text;\n",
              "  for (const key of Object.keys(styleAttributes)) {\n",
              "    element.style[key] = styleAttributes[key];\n",
              "  }\n",
              "  return element;\n",
              "}\n",
              "\n",
              "// Max number of bytes which will be uploaded at a time.\n",
              "const MAX_PAYLOAD_SIZE = 100 * 1024;\n",
              "\n",
              "function _uploadFiles(inputId, outputId) {\n",
              "  const steps = uploadFilesStep(inputId, outputId);\n",
              "  const outputElement = document.getElementById(outputId);\n",
              "  // Cache steps on the outputElement to make it available for the next call\n",
              "  // to uploadFilesContinue from Python.\n",
              "  outputElement.steps = steps;\n",
              "\n",
              "  return _uploadFilesContinue(outputId);\n",
              "}\n",
              "\n",
              "// This is roughly an async generator (not supported in the browser yet),\n",
              "// where there are multiple asynchronous steps and the Python side is going\n",
              "// to poll for completion of each step.\n",
              "// This uses a Promise to block the python side on completion of each step,\n",
              "// then passes the result of the previous step as the input to the next step.\n",
              "function _uploadFilesContinue(outputId) {\n",
              "  const outputElement = document.getElementById(outputId);\n",
              "  const steps = outputElement.steps;\n",
              "\n",
              "  const next = steps.next(outputElement.lastPromiseValue);\n",
              "  return Promise.resolve(next.value.promise).then((value) => {\n",
              "    // Cache the last promise value to make it available to the next\n",
              "    // step of the generator.\n",
              "    outputElement.lastPromiseValue = value;\n",
              "    return next.value.response;\n",
              "  });\n",
              "}\n",
              "\n",
              "/**\n",
              " * Generator function which is called between each async step of the upload\n",
              " * process.\n",
              " * @param {string} inputId Element ID of the input file picker element.\n",
              " * @param {string} outputId Element ID of the output display.\n",
              " * @return {!Iterable<!Object>} Iterable of next steps.\n",
              " */\n",
              "function* uploadFilesStep(inputId, outputId) {\n",
              "  const inputElement = document.getElementById(inputId);\n",
              "  inputElement.disabled = false;\n",
              "\n",
              "  const outputElement = document.getElementById(outputId);\n",
              "  outputElement.innerHTML = '';\n",
              "\n",
              "  const pickedPromise = new Promise((resolve) => {\n",
              "    inputElement.addEventListener('change', (e) => {\n",
              "      resolve(e.target.files);\n",
              "    });\n",
              "  });\n",
              "\n",
              "  const cancel = document.createElement('button');\n",
              "  inputElement.parentElement.appendChild(cancel);\n",
              "  cancel.textContent = 'Cancel upload';\n",
              "  const cancelPromise = new Promise((resolve) => {\n",
              "    cancel.onclick = () => {\n",
              "      resolve(null);\n",
              "    };\n",
              "  });\n",
              "\n",
              "  // Wait for the user to pick the files.\n",
              "  const files = yield {\n",
              "    promise: Promise.race([pickedPromise, cancelPromise]),\n",
              "    response: {\n",
              "      action: 'starting',\n",
              "    }\n",
              "  };\n",
              "\n",
              "  cancel.remove();\n",
              "\n",
              "  // Disable the input element since further picks are not allowed.\n",
              "  inputElement.disabled = true;\n",
              "\n",
              "  if (!files) {\n",
              "    return {\n",
              "      response: {\n",
              "        action: 'complete',\n",
              "      }\n",
              "    };\n",
              "  }\n",
              "\n",
              "  for (const file of files) {\n",
              "    const li = document.createElement('li');\n",
              "    li.append(span(file.name, {fontWeight: 'bold'}));\n",
              "    li.append(span(\n",
              "        `(${file.type || 'n/a'}) - ${file.size} bytes, ` +\n",
              "        `last modified: ${\n",
              "            file.lastModifiedDate ? file.lastModifiedDate.toLocaleDateString() :\n",
              "                                    'n/a'} - `));\n",
              "    const percent = span('0% done');\n",
              "    li.appendChild(percent);\n",
              "\n",
              "    outputElement.appendChild(li);\n",
              "\n",
              "    const fileDataPromise = new Promise((resolve) => {\n",
              "      const reader = new FileReader();\n",
              "      reader.onload = (e) => {\n",
              "        resolve(e.target.result);\n",
              "      };\n",
              "      reader.readAsArrayBuffer(file);\n",
              "    });\n",
              "    // Wait for the data to be ready.\n",
              "    let fileData = yield {\n",
              "      promise: fileDataPromise,\n",
              "      response: {\n",
              "        action: 'continue',\n",
              "      }\n",
              "    };\n",
              "\n",
              "    // Use a chunked sending to avoid message size limits. See b/62115660.\n",
              "    let position = 0;\n",
              "    do {\n",
              "      const length = Math.min(fileData.byteLength - position, MAX_PAYLOAD_SIZE);\n",
              "      const chunk = new Uint8Array(fileData, position, length);\n",
              "      position += length;\n",
              "\n",
              "      const base64 = btoa(String.fromCharCode.apply(null, chunk));\n",
              "      yield {\n",
              "        response: {\n",
              "          action: 'append',\n",
              "          file: file.name,\n",
              "          data: base64,\n",
              "        },\n",
              "      };\n",
              "\n",
              "      let percentDone = fileData.byteLength === 0 ?\n",
              "          100 :\n",
              "          Math.round((position / fileData.byteLength) * 100);\n",
              "      percent.textContent = `${percentDone}% done`;\n",
              "\n",
              "    } while (position < fileData.byteLength);\n",
              "  }\n",
              "\n",
              "  // All done.\n",
              "  yield {\n",
              "    response: {\n",
              "      action: 'complete',\n",
              "    }\n",
              "  };\n",
              "}\n",
              "\n",
              "scope.google = scope.google || {};\n",
              "scope.google.colab = scope.google.colab || {};\n",
              "scope.google.colab._files = {\n",
              "  _uploadFiles,\n",
              "  _uploadFilesContinue,\n",
              "};\n",
              "})(self);\n",
              "</script> "
            ]
          },
          "metadata": {}
        },
        {
          "output_type": "stream",
          "name": "stdout",
          "text": [
            "Saving Anexo ET_demo_round_traces_2022.csv to Anexo ET_demo_round_traces_2022.csv\n"
          ]
        }
      ]
    },
    {
      "cell_type": "code",
      "source": [
        "df = pd.read_csv(name, sep=\";\")\n"
      ],
      "metadata": {
        "id": "kp_0L41IS69w"
      },
      "execution_count": null,
      "outputs": []
    },
    {
      "cell_type": "markdown",
      "source": [
        "-- Exploracion inicial de datos"
      ],
      "metadata": {
        "id": "SFDHGQITUQK8"
      }
    },
    {
      "cell_type": "code",
      "source": [
        "#cantidad filas, columnas\n",
        "df.shape"
      ],
      "metadata": {
        "id": "JGPAyVhBUK6A"
      },
      "execution_count": null,
      "outputs": []
    },
    {
      "cell_type": "code",
      "source": [
        "#nombre de las columnas\n",
        "df.columns"
      ],
      "metadata": {
        "id": "_rT8VI5XUpph"
      },
      "execution_count": null,
      "outputs": []
    },
    {
      "cell_type": "code",
      "source": [
        "#Muestra las primeras 5 filas para comprobar si los datos cargaron correctamente\n",
        "display(df.head())"
      ],
      "metadata": {
        "id": "xOjtl1bXmAnw"
      },
      "execution_count": null,
      "outputs": []
    },
    {
      "cell_type": "code",
      "source": [
        "#Muestra qué tipo de datos hay, si es texto, número, booleano y cuántos datos faltan.\n",
        "df.info()"
      ],
      "metadata": {
        "id": "Q_5w-cFvmIfi"
      },
      "execution_count": null,
      "outputs": []
    },
    {
      "cell_type": "code",
      "source": [
        "#5 primeras filas de las columnas\n",
        "df.head()"
      ],
      "metadata": {
        "id": "YHwzNWrGUzRV"
      },
      "execution_count": null,
      "outputs": []
    },
    {
      "cell_type": "code",
      "source": [
        "#resumen general dataframe\n",
        "df.info()"
      ],
      "metadata": {
        "id": "uPfcJFH-VHNa"
      },
      "execution_count": null,
      "outputs": []
    },
    {
      "cell_type": "code",
      "source": [
        "#visualizacion de datos nulos\n",
        "df.isna().sum()\n",
        "#solo dos filas presentan datos nulos, junto a esto tambien esta una columna con error de carga (unnamed:0)"
      ],
      "metadata": {
        "id": "AsyJR6-kVQxP"
      },
      "execution_count": null,
      "outputs": []
    },
    {
      "cell_type": "code",
      "source": [
        "#analisis estadistico basico\n",
        "df.describe().T"
      ],
      "metadata": {
        "id": "azSq2EbnVZ2M"
      },
      "execution_count": null,
      "outputs": []
    },
    {
      "cell_type": "markdown",
      "source": [
        "Por parte del analisis anterior se pueden observar datos interesantes para entender el comportamiento de los jugadores\n",
        "\n",
        "Por parte de la compra de armas\n",
        "La gran mayoria usa armas de asalto como arma primaria, asi como que muy pocos usan armas pesadas o smg\n",
        "Muy pocos compran granadas de daño, la gran mayoria solo compra utilidad\n",
        "\n",
        "Por parte del los jugadores por partida\n",
        "El promedio hace alrededor de 9 kills por partida, siendo 4 de estas con disparo a la cabeza\n"
      ],
      "metadata": {
        "id": "EmDsl_21WhZ-"
      }
    },
    {
      "cell_type": "markdown",
      "source": [
        "Limpieza"
      ],
      "metadata": {
        "id": "33XUSaiHJg6H"
      }
    },
    {
      "cell_type": "code",
      "source": [
        "#verificacion de datos a los extremos\n",
        "df[\"headshot_percentage\"] = df[\"RoundHeadshots\"] / df[\"RoundKills\"]"
      ],
      "metadata": {
        "id": "9dTYnLxXa5Qt"
      },
      "execution_count": null,
      "outputs": []
    },
    {
      "cell_type": "code",
      "source": [
        "df['TimeAlive'] = pd.to_numeric(df['TimeAlive'], errors='coerce')\n",
        "df['TravelledDistance'] = pd.to_numeric(df['TravelledDistance'], errors='coerce')\n",
        "df['FirstKillTime'] = pd.to_numeric(df['FirstKillTime'], errors='coerce')"
      ],
      "metadata": {
        "id": "wZLkuxp0fJA9"
      },
      "execution_count": null,
      "outputs": []
    },
    {
      "cell_type": "code",
      "source": [
        "df['headshot_percentage'] = df['RoundHeadshots'] / df['RoundKills']"
      ],
      "metadata": {
        "id": "BWHNhjNUpHzv"
      },
      "execution_count": null,
      "outputs": []
    },
    {
      "cell_type": "code",
      "source": [
        "df['ImpactPlayerScore'] = df['RoundKills'] + 0.5 * df['RoundAssists'] + 1.5 * df['RoundHeadshots']"
      ],
      "metadata": {
        "id": "WZNDEB2wpHwp"
      },
      "execution_count": null,
      "outputs": []
    },
    {
      "cell_type": "code",
      "source": [
        "# Se hacen las respectivas correlaciones entre variables\n",
        "df_encoded = pd.get_dummies(df, columns=[\"Map\", \"Team\"], drop_first=True)\n",
        "df_numeric = df_encoded.select_dtypes(include=['float64', 'int64'])\n",
        "corr_matrix = df_numeric.corr()\n",
        "corr_matrix[\"MatchKills\"].sort_values(ascending=False)\n"
      ],
      "metadata": {
        "id": "ZGmj1ELeZAWH"
      },
      "execution_count": null,
      "outputs": []
    },
    {
      "cell_type": "markdown",
      "source": [
        "Las anteriores correlaciones nos indican que los headshots son la estadistica que mas hace aumentar la cantidad de kills por partida, junto a esto le sigue el tener mayor cantidad de rondas ya que habria mas tiempo para realizar mas kills asi como que las kills por flanqueo tambien tienen una alta correlacion con la cantidad de kills por partida, en resumen realizar headshots y flanquear aumentan la cantidad de kills significativamente"
      ],
      "metadata": {
        "id": "9UBMb-grdfHl"
      }
    },
    {
      "cell_type": "code",
      "source": [
        "#Dibuja un histograma para ver cuántos kills por ronda suelen hacer los jugadores.\n",
        "sns.histplot(df['RoundKills'], kde=True)\n"
      ],
      "metadata": {
        "id": "p6L2vakjpYIf"
      },
      "execution_count": null,
      "outputs": []
    },
    {
      "cell_type": "code",
      "source": [
        "#verificacion de posibles correlaciones en forma visual\n",
        "sb.pairplot(df[[\"MatchKills\", \"RoundKills\", \"RoundHeadshots\", \"RoundAssists\"]])\n",
        "plt.suptitle(\"Pairplot de MatchKills, RoundKills, RoundHeadshots y RoundAssists\", y=1.02)\n",
        "plt.show()"
      ],
      "metadata": {
        "id": "CDQUQIqLrhH8"
      },
      "execution_count": null,
      "outputs": []
    },
    {
      "cell_type": "code",
      "source": [
        "#Dibuja un boxplot para comparar kills entre los que sobreviven y los que mueren.\n",
        "sns.boxplot(x='Survived', y='RoundKills', data=df)"
      ],
      "metadata": {
        "id": "EnCQ_dNVpX-a"
      },
      "execution_count": null,
      "outputs": []
    },
    {
      "cell_type": "code",
      "source": [
        "#Este gráfico sirve para identificar fácilmente qué variables están relacionadas entre sí y qué tan fuerte es esa relación.\n",
        "plt.figure(figsize=(18,14))\n",
        "sb.heatmap(corr_matrix, cmap=\"coolwarm\", vmin=-1, vmax=1, annot=True, fmt=\".2f\")\n",
        "plt.xticks(rotation=45, ha='right')\n",
        "plt.yticks(rotation=0)\n",
        "plt.title(\"Mapa de Calor de Correlaciones\", fontsize=18)\n",
        "plt.show()"
      ],
      "metadata": {
        "id": "H2bxsKigqIBE"
      },
      "execution_count": null,
      "outputs": []
    },
    {
      "cell_type": "markdown",
      "source": [
        "Fase 3 --- preparacion de los datos"
      ],
      "metadata": {
        "id": "ZeCFGRZ-jMME"
      }
    },
    {
      "cell_type": "code",
      "source": [
        "df_encoded = pd.get_dummies(df, columns=[\"Map\", \"Team\"], drop_first=True)\n",
        "\n",
        "for col in ['TimeAlive', 'TravelledDistance', 'ImpactPlayerScore']:\n",
        "    if col in df_encoded.columns:\n",
        "        df_encoded[col] = pd.to_numeric(df_encoded[col], errors='coerce')\n",
        "\n",
        "df_numeric = df_encoded.select_dtypes(include=['float64', 'int64']).copy()\n",
        "\n",
        "vars_to_scale = [col for col in ['TimeAlive', 'TravelledDistance', 'RoundKills', 'MatchKills', 'ImpactPlayerScore'] if col in df_numeric.columns]\n",
        "\n",
        "scaler = StandardScaler()\n",
        "df_numeric[vars_to_scale] = scaler.fit_transform(df_numeric[vars_to_scale])\n",
        "\n",
        "if 'RoundKills' in df_numeric.columns and 'TimeAlive' in df_numeric.columns:\n",
        "    df_numeric['Kills_per_minute'] = df_numeric['RoundKills'] / (df_numeric['TimeAlive'] / 60)\n",
        "    df_numeric['Kills_per_minute'] = df_numeric['Kills_per_minute'].fillna(0)\n"
      ],
      "metadata": {
        "id": "IgPwFKCyjGuj"
      },
      "execution_count": null,
      "outputs": []
    },
    {
      "cell_type": "code",
      "source": [
        "df_numeric.describe()\n",
        "#un fragmento de codigo para ver la nueva variable"
      ],
      "metadata": {
        "id": "oai9lvnOjJXC"
      },
      "execution_count": null,
      "outputs": []
    }
  ]
}